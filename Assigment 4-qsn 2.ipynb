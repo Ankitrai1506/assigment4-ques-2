{
 "cells": [
  {
   "cell_type": "raw",
   "id": "bec15c83",
   "metadata": {},
   "source": [
    "##Write a Python program to triple all numbers of a given list of integers. Use Python map.\n",
    "\n",
    "\n",
    "\n",
    "sample list: [1, 2, 3, 4, 5, 6, 7]\n",
    "\n",
    "\n",
    "\n",
    "Triple of list numbers:\n",
    "\n",
    "[3, 6, 9, 12, 15, 18, 21]"
   ]
  },
  {
   "cell_type": "code",
   "execution_count": 3,
   "id": "5280b5fd",
   "metadata": {},
   "outputs": [
    {
     "name": "stdout",
     "output_type": "stream",
     "text": [
      "Enter the number :12 14 23 21 22 32\n",
      "[36, 42, 69, 63, 66, 96]\n"
     ]
    }
   ],
   "source": [
    "input1=list(map(int,input(\"Enter the number :\").split()))\n",
    "print(\"INPUT LIST IS\")\n",
    "\n",
    "def triple_number(num1):\n",
    "    return num1*3\n",
    "\n",
    "result=list(map(triple_number,input1))\n",
    "print(result)\n"
   ]
  },
  {
   "cell_type": "code",
   "execution_count": null,
   "id": "104e9207",
   "metadata": {},
   "outputs": [],
   "source": []
  }
 ],
 "metadata": {
  "kernelspec": {
   "display_name": "Python 3 (ipykernel)",
   "language": "python",
   "name": "python3"
  },
  "language_info": {
   "codemirror_mode": {
    "name": "ipython",
    "version": 3
   },
   "file_extension": ".py",
   "mimetype": "text/x-python",
   "name": "python",
   "nbconvert_exporter": "python",
   "pygments_lexer": "ipython3",
   "version": "3.10.9"
  }
 },
 "nbformat": 4,
 "nbformat_minor": 5
}
